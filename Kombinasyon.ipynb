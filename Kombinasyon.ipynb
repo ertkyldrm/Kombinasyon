{
  "nbformat": 4,
  "nbformat_minor": 0,
  "metadata": {
    "colab": {
      "name": "Untitled0.ipynb",
      "version": "0.3.2",
      "provenance": [],
      "include_colab_link": true
    },
    "kernelspec": {
      "name": "python3",
      "display_name": "Python 3"
    }
  },
  "cells": [
    {
      "cell_type": "markdown",
      "metadata": {
        "id": "view-in-github",
        "colab_type": "text"
      },
      "source": [
        "<a href=\"https://colab.research.google.com/github/ertkyldrm/Kombinasyon/blob/master/Kombinasyon.ipynb\" target=\"_parent\"><img src=\"https://colab.research.google.com/assets/colab-badge.svg\" alt=\"Open In Colab\"/></a>"
      ]
    },
    {
      "metadata": {
        "id": "A83Go-4LpCQp",
        "colab_type": "text"
      },
      "cell_type": "markdown",
      "source": [
        "Problem: Bir torbadaki n sayıdaki bilyeden x sayıda bilye kaç farklı şekilde seçilebilir ?\n",
        "(n ve x kullanıcı tarafından belirlenecektir.)"
      ]
    },
    {
      "metadata": {
        "id": "6Txt7rf2ot_7",
        "colab_type": "text"
      },
      "cell_type": "markdown",
      "source": [
        "İlk olarak faktöriyel hesaplamak için fonksiyon tanımlıyorum\n"
      ]
    },
    {
      "metadata": {
        "id": "WGGSkvuHoi30",
        "colab_type": "code",
        "colab": {}
      },
      "cell_type": "code",
      "source": [
        "def faktoriyelHesapla(i):\n",
        "    \n",
        "    if i==1:       \n",
        "        return 1\n",
        "    \n",
        "    else: \n",
        "        return i * faktoriyelHesapla(i-1)"
      ],
      "execution_count": 0,
      "outputs": []
    },
    {
      "metadata": {
        "id": "D8AT726no6Gp",
        "colab_type": "text"
      },
      "cell_type": "markdown",
      "source": [
        "Kombinasyon hesabı için fonksiyon tanımlıyorum."
      ]
    },
    {
      "metadata": {
        "id": "Wnb5dU15pmu3",
        "colab_type": "code",
        "colab": {}
      },
      "cell_type": "code",
      "source": [
        "def kombinasyonHesapla(j,k):\n",
        "    \n",
        "    if (j<k):\n",
        "        print(\"1. Sayının 2. Sayıdan büyük yada eşit olması gerekli. Verdiğiniz sayıların çözümü yoktur!\")\n",
        "   \n",
        "    elif(j==k):\n",
        "        print(\"1\")\n",
        "    \n",
        "    elif(j>k):\n",
        "        \n",
        "        s=1\n",
        "        s= faktoriyelHesapla(j) #n faktöriyel\n",
        "        \n",
        "        l=1\n",
        "        l= faktoriyelHesapla(k) #m faktöriyel\n",
        "        \n",
        "        f=1\n",
        "        f= faktoriyelHesapla(j-k) #n-m faktöriyel\n",
        "        \n",
        "        w=s/(l*f)\n",
        "        return w"
      ],
      "execution_count": 0,
      "outputs": []
    },
    {
      "metadata": {
        "id": "a7NwxXXzpyG5",
        "colab_type": "text"
      },
      "cell_type": "markdown",
      "source": [
        "Kullanıcıdan bilgi aldığı kısım .\n"
      ]
    },
    {
      "metadata": {
        "id": "7OQwoIEYp2O4",
        "colab_type": "code",
        "colab": {}
      },
      "cell_type": "code",
      "source": [
        "sayi1 = int(input(\"Torbadaki bilye sayısı :\"))\n",
        " \n",
        "sayi2 = int(input(\"Torbadan kaç adet bilye seçileceği :  \")) \n",
        " \n",
        "print(sayi1, \"kadar bilyeden \", sayi2,\"kadar bilye\", kombinasyonHesapla(sayi1,sayi2),\"şekilde seçilebilir.\", )"
      ],
      "execution_count": 0,
      "outputs": []
    }
  ]
}